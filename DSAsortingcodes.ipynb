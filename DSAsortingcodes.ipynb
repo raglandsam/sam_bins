{
 "cells": [
  {
   "cell_type": "code",
   "execution_count": null,
   "metadata": {},
   "outputs": [],
   "source": [
    "#1 BUBBLE SORTING ALGORITHM WITH RANDOM LIST MAKER FUNCTION\n",
    "import random as r\n",
    "def bubblesort(lst) :\n",
    "    sorted = False \n",
    "\n",
    "    while sorted == False :                      #executes when list is not sorted at any time.\n",
    "        sorted = True \n",
    "\n",
    "        for i in range(len(lst)-1):\n",
    "            if lst[i]>lst[i+1]:                  #when list is unsorted \n",
    "\n",
    "                sorted =  False                  #set condition as false so loop is ran again to check if sorted \n",
    "                lst[i],lst[i+1]=lst[i+1],lst[i]  # swap unsorted operand with its next operand \n",
    "    return lst \n",
    "#justa random list maker \n",
    "def randomlistmaker(L) :\n",
    "    n=int(input(\"enter the length of the list you want\"))\n",
    "    for i in range(n) :\n",
    "        L.append(r.randint(0,100))\n",
    "    return L\n",
    "K=[]\n",
    "print(bubblesort(randomlistmaker(K)))"
   ]
  },
  {
   "cell_type": "code",
   "execution_count": null,
   "metadata": {},
   "outputs": [],
   "source": [
    "#2 INSERTION SORT  \n",
    "def insertionsort(arr):\n",
    "    for i in range(1, len(arr)):\n",
    "        # first element is considered already started, start from the second element \n",
    "        \n",
    "        j = i\n",
    "        while arr[j-1] > arr[j] and j > 0:\n",
    "            # Keep swapping until the current element is in the correct position\n",
    "            arr[j-1], arr[j] = arr[j], arr[j-1]\n",
    "            j -= 1\n",
    "    \n",
    "    print(arr, \"after sorting\")\n",
    "\n",
    "L = eval(input(\"enter a list of integers\"))\n",
    "insertionsort(L)\n"
   ]
  },
  {
   "cell_type": "code",
   "execution_count": null,
   "metadata": {},
   "outputs": [],
   "source": [
    "#3 SELECTION SORT IN PYTHON\n",
    "def selectionsort(arr):    \n",
    "    for i in range(0, len(arr) - 1):\n",
    "        # Iterate through the array, considering each element as a potential minimum\n",
    "    \n",
    "        mindex = i\n",
    "        # Assume the current index has the smallest value\n",
    "        \n",
    "        for j in range(i + 1, len(arr)):\n",
    "            if arr[j] < arr[mindex]:\n",
    "                # Find the smallest element in the unsorted part of the array\n",
    "                mindex = j\n",
    "        \n",
    "        # Swap the smallest element found with the current element\n",
    "        arr[mindex], arr[i] = arr[i], arr[mindex]\n",
    "    \n",
    "    print(arr)\n",
    "selectionsort([3, 6, 3, 6, 8, 3, 3, 7])\n"
   ]
  }
 ],
 "metadata": {
  "language_info": {
   "name": "python"
  }
 },
 "nbformat": 4,
 "nbformat_minor": 2
}
